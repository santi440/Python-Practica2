{
 "cells": [
  {
   "cell_type": "markdown",
   "metadata": {},
   "source": [
    "Importo las funciones definidad en el modulo python estadistica_hockey como eh"
   ]
  },
  {
   "cell_type": "code",
   "execution_count": 171,
   "metadata": {},
   "outputs": [],
   "source": [
    "import estadistica_hockey as eh\n"
   ]
  },
  {
   "cell_type": "markdown",
   "metadata": {},
   "source": [
    "Los datos de los jugadores en 4 listas donde cada posicion corresponde al mismo jugador"
   ]
  },
  {
   "cell_type": "code",
   "execution_count": 172,
   "metadata": {},
   "outputs": [],
   "source": [
    "names = \"\"\"Agustin, Yanina, Andrés, Ariadna, Bautista, CAROLINA, CESAR, David, Diego, Dolores, DYLAN, ELIANA, Emanuel, Fabián, Noelia, Francsica, FEDERICO, Fernanda, GONZALO, Nancy \"\"\"\n",
    "goals = [0, 10, 4, 0, 5, 14, 0, 0, 7, 2, 1, 1, 1, 5, 6, 1, 1, 2, 0, 11]\n",
    "goals_avoided = [0, 2, 0, 0, 5, 2, 0, 0, 1, 2, 0, 5, 5, 0, 1, 0, 2, 3, 0, 0]\n",
    "assists = [0, 5, 1, 0, 5, 2, 0, 0, 1, 2, 1, 5, 5, 0, 1, 0, 2, 3, 1, 0]"
   ]
  },
  {
   "cell_type": "markdown",
   "metadata": {},
   "source": [
    "Creo la estructura para guardar los jugadores"
   ]
  },
  {
   "cell_type": "code",
   "execution_count": 173,
   "metadata": {},
   "outputs": [],
   "source": [
    "stats = eh.builder(names,goals,goals_avoided,assists)"
   ]
  },
  {
   "cell_type": "markdown",
   "metadata": {},
   "source": [
    "Imprimimos para corroborar que todos los datos sean correctos"
   ]
  },
  {
   "cell_type": "code",
   "execution_count": 174,
   "metadata": {},
   "outputs": [
    {
     "name": "stdout",
     "output_type": "stream",
     "text": [
      "Estadísticas de cada jugador:\n",
      "Agustin: {'Goles a favor': 0, 'Goles evitados': 0, 'Asistencias': 0}\n",
      "Yanina: {'Goles a favor': 10, 'Goles evitados': 2, 'Asistencias': 5}\n",
      "Andrés: {'Goles a favor': 4, 'Goles evitados': 0, 'Asistencias': 1}\n",
      "Ariadna: {'Goles a favor': 0, 'Goles evitados': 0, 'Asistencias': 0}\n",
      "Bautista: {'Goles a favor': 5, 'Goles evitados': 5, 'Asistencias': 5}\n",
      "CAROLINA: {'Goles a favor': 14, 'Goles evitados': 2, 'Asistencias': 2}\n",
      "CESAR: {'Goles a favor': 0, 'Goles evitados': 0, 'Asistencias': 0}\n",
      "David: {'Goles a favor': 0, 'Goles evitados': 0, 'Asistencias': 0}\n",
      "Diego: {'Goles a favor': 7, 'Goles evitados': 1, 'Asistencias': 1}\n",
      "Dolores: {'Goles a favor': 2, 'Goles evitados': 2, 'Asistencias': 2}\n",
      "DYLAN: {'Goles a favor': 1, 'Goles evitados': 0, 'Asistencias': 1}\n",
      "ELIANA: {'Goles a favor': 1, 'Goles evitados': 5, 'Asistencias': 5}\n",
      "Emanuel: {'Goles a favor': 1, 'Goles evitados': 5, 'Asistencias': 5}\n",
      "Fabián: {'Goles a favor': 5, 'Goles evitados': 0, 'Asistencias': 0}\n",
      "Noelia: {'Goles a favor': 6, 'Goles evitados': 1, 'Asistencias': 1}\n",
      "Francsica: {'Goles a favor': 1, 'Goles evitados': 0, 'Asistencias': 0}\n",
      "FEDERICO: {'Goles a favor': 1, 'Goles evitados': 2, 'Asistencias': 2}\n",
      "Fernanda: {'Goles a favor': 2, 'Goles evitados': 3, 'Asistencias': 3}\n",
      "GONZALO: {'Goles a favor': 0, 'Goles evitados': 0, 'Asistencias': 1}\n",
      "Nancy : {'Goles a favor': 11, 'Goles evitados': 0, 'Asistencias': 0}\n"
     ]
    }
   ],
   "source": [
    "print(\"Estadísticas de cada jugador:\")\n",
    "for name, data in stats.items():\n",
    "    print(f\"{name}: {data}\")"
   ]
  },
  {
   "cell_type": "markdown",
   "metadata": {},
   "source": [
    "Opero sobre los datos usando las funciones que se declararon en el modulo "
   ]
  },
  {
   "cell_type": "code",
   "execution_count": 175,
   "metadata": {},
   "outputs": [
    {
     "name": "stdout",
     "output_type": "stream",
     "text": [
      "\n",
      "Nombre y cantidad de goles del goleador o goleadora:\n",
      "CAROLINA tuvo 14 goles y es la mayor goleadora\n",
      "\n",
      "Jugador o jugadora más influyente:\n",
      "0.004995700001018122\n",
      "0.0036162000033073127\n",
      "\n",
      "Promedio de goles por partido del equipo en general:\n",
      "2.84\n",
      "\n",
      "Promedio de goles por partido del goleador o goleadora:\n",
      "0.56\n"
     ]
    }
   ],
   "source": [
    "goald_leader = eh.goald_leader_goals(stats)\n",
    "print(\"\\nNombre y cantidad de goles del goleador o goleadora:\")\n",
    "print(f\"{goald_leader[0]} tuvo {goald_leader[1]} goles y es la mayor goleadora\")\n",
    "\n",
    "print(\"\\nJugador o jugadora más influyente:\")\n",
    "print(eh.influence(stats))\n",
    "\n",
    "print(\"\\nPromedio de goles por partido del equipo en general:\")\n",
    "print(eh.team_average(goals))\n",
    "\n",
    "print(\"\\nPromedio de goles por partido del goleador o goleadora:\")\n",
    "print(eh.goald_leader_average(stats))"
   ]
  }
 ],
 "metadata": {
  "kernelspec": {
   "display_name": "jupyter",
   "language": "python",
   "name": "python3"
  },
  "language_info": {
   "codemirror_mode": {
    "name": "ipython",
    "version": 3
   },
   "file_extension": ".py",
   "mimetype": "text/x-python",
   "name": "python",
   "nbconvert_exporter": "python",
   "pygments_lexer": "ipython3",
   "version": "3.11.4"
  },
  "orig_nbformat": 4
 },
 "nbformat": 4,
 "nbformat_minor": 2
}
